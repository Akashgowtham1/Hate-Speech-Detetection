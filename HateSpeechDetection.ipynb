{
  "nbformat": 4,
  "nbformat_minor": 0,
  "metadata": {
    "colab": {
      "name": "HateSpeechDetection.ipynb",
      "provenance": [],
      "toc_visible": true,
      "include_colab_link": true
    },
    "kernelspec": {
      "name": "python3",
      "display_name": "Python 3"
    },
    "language_info": {
      "name": "python"
    }
  },
  "cells": [
    {
      "cell_type": "markdown",
      "metadata": {
        "id": "view-in-github",
        "colab_type": "text"
      },
      "source": [
        "<a href=\"https://colab.research.google.com/github/Akashgowtham1/Hate-Speech-Detetection/blob/main/HateSpeechDetection.ipynb\" target=\"_parent\"><img src=\"https://colab.research.google.com/assets/colab-badge.svg\" alt=\"Open In Colab\"/></a>"
      ]
    },
    {
      "cell_type": "markdown",
      "metadata": {
        "id": "KMQsBc70VAjH"
      },
      "source": [
        "#Hate Speech Detection\n"
      ]
    },
    {
      "cell_type": "code",
      "metadata": {
        "id": "bTv49NaEU9tN"
      },
      "source": [
        "#Importing Pandas and re library\n",
        "import pandas as pd\n",
        "import re"
      ],
      "execution_count": 1,
      "outputs": []
    },
    {
      "cell_type": "code",
      "metadata": {
        "id": "n0I8VkAzXXgF"
      },
      "source": [
        "#Loading the Training dataset\n",
        "train = pd.read_csv('train.csv')"
      ],
      "execution_count": 2,
      "outputs": []
    },
    {
      "cell_type": "code",
      "metadata": {
        "id": "ThpVfsXpXaPx"
      },
      "source": [
        "#Loading the Test dataset\n",
        "test = pd.read_csv('test.csv')"
      ],
      "execution_count": 3,
      "outputs": []
    },
    {
      "cell_type": "code",
      "metadata": {
        "id": "yrWmYhOHVMrt"
      },
      "source": [
        "#Defining a function to return a clean text\n",
        "def  cleaning_text(df, text_field):\n",
        "    df[text_field] = df[text_field].str.lower()\n",
        "    df[text_field] = df[text_field].apply(lambda elem: re.sub(r\"(@[A-Za-z0-9]+)|([^0-9A-Za-z \\t])|(\\w+:\\/\\/\\S+)|^rt|http.+?\", \"\", elem))  \n",
        "    return df\n"
      ],
      "execution_count": 4,
      "outputs": []
    },
    {
      "cell_type": "code",
      "metadata": {
        "id": "fdFoTdCcYQa5"
      },
      "source": [
        "#Cleaning the test and training dataset\n",
        "test_clean  = cleaning_text(test, \"tweet\")\n",
        "train_clean = cleaning_text(train,\"tweet\")"
      ],
      "execution_count": 5,
      "outputs": []
    },
    {
      "cell_type": "code",
      "metadata": {
        "colab": {
          "base_uri": "https://localhost:8080/"
        },
        "id": "vnaZjNY3WRb-",
        "outputId": "742c9647-f4fb-45be-e80f-c097d8adbcf4"
      },
      "source": [
        "#Importing resample from sklearn library\n",
        "from sklearn.utils import resample\n",
        "train_major = train_clean[train_clean.label==0]\n",
        "train_minor = train_clean[train_clean.label==1]\n",
        "#Here we are upsampling the data\n",
        "train_minor_upsampled = resample(train_minor,replace=True,n_samples=len(train_major),random_state=123)\n",
        "train_upsampled = pd.concat([train_minor_upsampled, train_major])\n",
        "#The upsampled data\n",
        "train_upsampled['label'].value_counts()"
      ],
      "execution_count": 6,
      "outputs": [
        {
          "output_type": "execute_result",
          "data": {
            "text/plain": [
              "1    29720\n",
              "0    29720\n",
              "Name: label, dtype: int64"
            ]
          },
          "metadata": {},
          "execution_count": 6
        }
      ]
    },
    {
      "cell_type": "code",
      "metadata": {
        "id": "G3OUKNsDWR2B"
      },
      "source": [
        "#Importing several modules from sklearn library\n",
        "from sklearn.feature_extraction.text import TfidfVectorizer\n",
        "from sklearn.pipeline import Pipeline\n",
        "from sklearn.feature_extraction.text import CountVectorizer\n",
        "from sklearn.feature_extraction.text import TfidfTransformer\n",
        "from sklearn.linear_model import SGDClassifier\n"
      ],
      "execution_count": 7,
      "outputs": []
    },
    {
      "cell_type": "code",
      "metadata": {
        "id": "luwFub2acYDZ"
      },
      "source": [
        "#Here we are building the pipeline of Scikit learn SGDClassifier\n",
        "pipeline_SGD = Pipeline([('vect', CountVectorizer()),('tfidf',  TfidfTransformer()),('nb', SGDClassifier()),])"
      ],
      "execution_count": 8,
      "outputs": []
    },
    {
      "cell_type": "code",
      "metadata": {
        "id": "ZfdAWWDHWVz-"
      },
      "source": [
        "\n",
        "#Importing the library for splitting test and training data\n",
        "from sklearn.model_selection import train_test_split\n",
        "X_train, X_test, y_train, y_test = train_test_split(train_upsampled['tweet'],train_upsampled['label'],random_state = 0)"
      ],
      "execution_count": 9,
      "outputs": []
    },
    {
      "cell_type": "code",
      "metadata": {
        "id": "cgaJHSF5c6rm"
      },
      "source": [
        "#Training our model\n",
        "model = pipeline_SGD.fit(X_train, y_train)\n",
        "y_predict = model.predict(X_test)"
      ],
      "execution_count": 10,
      "outputs": []
    },
    {
      "cell_type": "code",
      "metadata": {
        "colab": {
          "base_uri": "https://localhost:8080/"
        },
        "id": "vscwL86gWZIY",
        "outputId": "da755f03-2923-4ca9-e84a-98d5b8c3a2ca"
      },
      "source": [
        "#Calculating f1_score using the sklearn library\n",
        "from sklearn.metrics import f1_score\n",
        "f1_score(y_test, y_predict)"
      ],
      "execution_count": 12,
      "outputs": [
        {
          "output_type": "execute_result",
          "data": {
            "text/plain": [
              "0.9696"
            ]
          },
          "metadata": {},
          "execution_count": 12
        }
      ]
    },
    {
      "cell_type": "code",
      "metadata": {
        "id": "87sjzD5FwgiH"
      },
      "source": [
        ""
      ],
      "execution_count": null,
      "outputs": []
    }
  ]
}